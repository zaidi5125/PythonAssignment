{
 "cells": [
  {
   "cell_type": "code",
   "execution_count": 1,
   "metadata": {},
   "outputs": [
    {
     "name": "stdout",
     "output_type": "stream",
     "text": [
      "Bilal\n",
      "Zain\n",
      "Ali\n"
     ]
    }
   ],
   "source": [
    "name:list=[\"Bilal\",\"Zain\",\"Ali\"] #Creating List for the variable \n",
    "print(name[0]) # print the name of the lis by its index\n",
    "print(name[1])\n",
    "print(name[2])"
   ]
  },
  {
   "cell_type": "code",
   "execution_count": 2,
   "metadata": {},
   "outputs": [
    {
     "name": "stdout",
     "output_type": "stream",
     "text": [
      "Hello Good Morning,Have a nice day Bilal\n",
      "Hello Good Morning,Have a nice day Zain\n",
      "Hello Good Morning,Have a nice day Ali\n"
     ]
    }
   ],
   "source": [
    "Greetings:str=\"Hello Good Morning,Have a nice day\"\n",
    "print(f\"{Greetings} {name[0]}\")\n",
    "print(f\"{Greetings} {name[1]}\")\n",
    "print(f\"{Greetings} {name[2]}\")"
   ]
  },
  {
   "cell_type": "code",
   "execution_count": 3,
   "metadata": {},
   "outputs": [
    {
     "name": "stdout",
     "output_type": "stream",
     "text": [
      "I would like to own a motorcycle\n",
      "I would like to own a car\n",
      "I would like to own a bicycle\n"
     ]
    }
   ],
   "source": [
    "transportation = [\"motorcycle\", \"car\", \"bicycle\"]\n",
    "print(f\"I would like to own a {transportation[0]}\")\n",
    "print(f\"I would like to own a {transportation[1]}\")\n",
    "print(f\"I would like to own a {transportation[2]}\")\n"
   ]
  },
  {
   "cell_type": "code",
   "execution_count": 4,
   "metadata": {},
   "outputs": [
    {
     "name": "stdout",
     "output_type": "stream",
     "text": [
      "Dear Zain, you are invited to dinner.\n",
      "Dear Bilal, you are invited to dinner.\n",
      "Dear Ali, you are invited to dinner.\n"
     ]
    }
   ],
   "source": [
    "guests = [\"Zain\", \"Bilal\", \"Ali\"]\n",
    "print(f\"Dear {guests[0]}, you are invited to dinner.\")\n",
    "print(f\"Dear {guests[1]}, you are invited to dinner.\")\n",
    "print(f\"Dear {guests[2]}, you are invited to dinner.\")\n"
   ]
  },
  {
   "cell_type": "code",
   "execution_count": 5,
   "metadata": {},
   "outputs": [
    {
     "name": "stdout",
     "output_type": "stream",
     "text": [
      "Bilal can't make it.\n",
      "Dear Zain, you are invited to dinner.\n",
      "Dear Ayaz, you are invited to dinner.\n",
      "Dear Ali, you are invited to dinner.\n"
     ]
    }
   ],
   "source": [
    "guests = [\"Zain\", \"Bilal\", \"Ali\"]\n",
    "print(f\"{guests[1]} can't make it.\")\n",
    "guests[1] = \"Ayaz\"\n",
    "print(f\"Dear {guests[0]}, you are invited to dinner.\")\n",
    "print(f\"Dear {guests[1]}, you are invited to dinner.\")\n",
    "print(f\"Dear {guests[2]}, you are invited to dinner.\")\n"
   ]
  },
  {
   "cell_type": "code",
   "execution_count": 9,
   "metadata": {},
   "outputs": [
    {
     "name": "stdout",
     "output_type": "stream",
     "text": [
      "I found a bigger table!\n",
      "Dear Ahmed, you are invited to dinner.\n",
      "Dear Zain, you are invited to dinner.\n",
      "Dear Aizal, you are invited to dinner.\n",
      "Dear Bilal, you are invited to dinner.\n",
      "Dear Ali, you are invited to dinner.\n",
      "Dear Wasi, you are invited to dinner.\n"
     ]
    }
   ],
   "source": [
    "guests = [\"Zain\", \"Bilal\", \"Ali\"]\n",
    "print(\"I found a bigger table!\")\n",
    "guests.insert(0, \"Ahmed\")\n",
    "guests.insert(2, \"Aizal\")\n",
    "guests.append(\"Wasi\")\n",
    "print(f\"Dear {guests[0]}, you are invited to dinner.\")\n",
    "print(f\"Dear {guests[1]}, you are invited to dinner.\")\n",
    "print(f\"Dear {guests[2]}, you are invited to dinner.\")\n",
    "print(f\"Dear {guests[3]}, you are invited to dinner.\")\n",
    "print(f\"Dear {guests[4]}, you are invited to dinner.\")\n",
    "print(f\"Dear {guests[5]}, you are invited to dinner.\")\n"
   ]
  },
  {
   "cell_type": "code",
   "execution_count": 10,
   "metadata": {},
   "outputs": [
    {
     "name": "stdout",
     "output_type": "stream",
     "text": [
      "I can invite only two people for dinner.\n",
      "Sorry, hira, I can't invite you.\n",
      "Sorry, wasi, I can't invite you.\n",
      "Sorry, ayaz, I can't invite you.\n",
      "Sorry, zain, I can't invite you.\n",
      "Dear Ali, you are still invited.\n",
      "Dear Bilal, you are still invited.\n",
      "[]\n"
     ]
    }
   ],
   "source": [
    "guests = [\"Ali\", \"Bilal\", \"zain\", \"ayaz\", \"wasi\", \"hira\"]\n",
    "print(\"I can invite only two people for dinner.\")\n",
    "print(f\"Sorry, {guests.pop()}, I can't invite you.\")\n",
    "print(f\"Sorry, {guests.pop()}, I can't invite you.\")\n",
    "print(f\"Sorry, {guests.pop()}, I can't invite you.\")\n",
    "print(f\"Sorry, {guests.pop()}, I can't invite you.\")\n",
    "print(f\"Dear {guests[0]}, you are still invited.\")\n",
    "print(f\"Dear {guests[1]}, you are still invited.\")\n",
    "del guests[0]\n",
    "del guests[0]\n",
    "print(guests)\n"
   ]
  },
  {
   "cell_type": "code",
   "execution_count": 13,
   "metadata": {},
   "outputs": [
    {
     "name": "stdout",
     "output_type": "stream",
     "text": [
      "['Japan', 'Norway', 'Canada', 'Iceland', 'Italy']\n",
      "['Canada', 'Iceland', 'Italy', 'Japan', 'Norway']\n",
      "['Japan', 'Norway', 'Canada', 'Iceland', 'Italy']\n",
      "['Norway', 'Japan', 'Italy', 'Iceland', 'Canada']\n",
      "['Japan', 'Norway', 'Canada', 'Iceland', 'Italy']\n",
      "['Italy', 'Iceland', 'Canada', 'Norway', 'Japan']\n",
      "['Japan', 'Norway', 'Canada', 'Iceland', 'Italy']\n",
      "['Canada', 'Iceland', 'Italy', 'Japan', 'Norway']\n",
      "['Norway', 'Japan', 'Italy', 'Iceland', 'Canada']\n"
     ]
    }
   ],
   "source": [
    "places = [\"Japan\", \"Norway\", \"Canada\", \"Iceland\", \"Italy\"]\n",
    "print(places)\n",
    "print(sorted(places))\n",
    "print(places)\n",
    "print(sorted(places, reverse=True))\n",
    "print(places)\n",
    "places.reverse()\n",
    "print(places)\n",
    "places.reverse()\n",
    "print(places)\n",
    "places.sort()\n",
    "print(places)\n",
    "places.sort(reverse=True)\n",
    "print(places)\n"
   ]
  },
  {
   "cell_type": "code",
   "execution_count": 15,
   "metadata": {},
   "outputs": [
    {
     "name": "stdout",
     "output_type": "stream",
     "text": [
      "['mountains', 'rivers', 'countries', 'cities', 'languages']\n",
      "['cities', 'countries', 'languages', 'mountains', 'rivers']\n",
      "5\n",
      "['mountains', 'rivers', 'countries', 'cities', 'languages', 'oceans']\n",
      "['mountains', 'rivers', 'forests', 'countries', 'cities', 'languages', 'oceans']\n",
      "['mountains', 'forests', 'countries', 'cities', 'languages', 'oceans']\n",
      "oceans\n",
      "['cities', 'countries', 'forests', 'languages', 'mountains']\n",
      "['mountains', 'languages', 'forests', 'countries', 'cities']\n"
     ]
    }
   ],
   "source": [
    "items = [\"mountains\", \"rivers\", \"countries\", \"cities\", \"languages\"]\n",
    "print(items)\n",
    "print(sorted(items))\n",
    "print(len(items))\n",
    "items.append(\"oceans\")\n",
    "print(items)\n",
    "items.insert(2, \"forests\")\n",
    "print(items)\n",
    "items.remove(\"rivers\")\n",
    "print(items)\n",
    "popped_item = items.pop()\n",
    "print(popped_item)\n",
    "items.sort()\n",
    "print(items)\n",
    "items.reverse()\n",
    "print(items)\n"
   ]
  },
  {
   "cell_type": "code",
   "execution_count": 17,
   "metadata": {},
   "outputs": [
    {
     "ename": "IndexError",
     "evalue": "list index out of range",
     "output_type": "error",
     "traceback": [
      "\u001b[1;31m---------------------------------------------------------------------------\u001b[0m",
      "\u001b[1;31mIndexError\u001b[0m                                Traceback (most recent call last)",
      "Cell \u001b[1;32mIn[17], line 2\u001b[0m\n\u001b[0;32m      1\u001b[0m name \u001b[38;5;241m=\u001b[39m [\u001b[38;5;124m\"\u001b[39m\u001b[38;5;124mali\u001b[39m\u001b[38;5;124m\"\u001b[39m, \u001b[38;5;124m\"\u001b[39m\u001b[38;5;124mbilal\u001b[39m\u001b[38;5;124m\"\u001b[39m, \u001b[38;5;124m\"\u001b[39m\u001b[38;5;124mwasi\u001b[39m\u001b[38;5;124m\"\u001b[39m]\n\u001b[1;32m----> 2\u001b[0m \u001b[38;5;28mprint\u001b[39m(\u001b[43mname\u001b[49m\u001b[43m[\u001b[49m\u001b[38;5;241;43m3\u001b[39;49m\u001b[43m]\u001b[49m)\n",
      "\u001b[1;31mIndexError\u001b[0m: list index out of range"
     ]
    }
   ],
   "source": [
    "name = [\"ali\", \"bilal\", \"wasi\"]\n",
    "print(name[3])\n"
   ]
  },
  {
   "cell_type": "code",
   "execution_count": 14,
   "metadata": {},
   "outputs": [
    {
     "name": "stdout",
     "output_type": "stream",
     "text": [
      "I am inviting 0 to a dinner\n"
     ]
    }
   ],
   "source": [
    "print(f\"I am inviting {len(guests)} to a dinner\")"
   ]
  }
 ],
 "metadata": {
  "kernelspec": {
   "display_name": "Python 3",
   "language": "python",
   "name": "python3"
  },
  "language_info": {
   "codemirror_mode": {
    "name": "ipython",
    "version": 3
   },
   "file_extension": ".py",
   "mimetype": "text/x-python",
   "name": "python",
   "nbconvert_exporter": "python",
   "pygments_lexer": "ipython3",
   "version": "3.12.6"
  }
 },
 "nbformat": 4,
 "nbformat_minor": 2
}
